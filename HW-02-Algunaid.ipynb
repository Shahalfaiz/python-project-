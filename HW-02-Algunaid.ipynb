{
 "cells": [
  {
   "cell_type": "markdown",
   "id": "b348de43",
   "metadata": {},
   "source": [
    "## Problem 1: Altering Lists"
   ]
  },
  {
   "cell_type": "code",
   "execution_count": 1,
   "id": "d5675eee",
   "metadata": {},
   "outputs": [],
   "source": [
    "employees = ['Beth','Fred','Drew','Alex','Emma','Chad']\n",
    "years = [15 , 11 , 8 , 5 , 4 , 2]"
   ]
  },
  {
   "cell_type": "code",
   "execution_count": 2,
   "id": "aae69df2",
   "metadata": {},
   "outputs": [
    {
     "name": "stdout",
     "output_type": "stream",
     "text": [
      "['Beth', 'Gina', 'Fred', 'Drew', 'Alex', 'Emma', 'Herb', 'Chad', 'Iris']\n",
      "[15, 12, 11, 8, 5, 4, 3, 2, 0]\n"
     ]
    }
   ],
   "source": [
    "employees.insert(1,'Gina')\n",
    "years.insert(1,12)\n",
    "employees.insert(6,'Herb')\n",
    "years.insert(6,3)\n",
    "employees.insert(8,'Iris')\n",
    "years.insert(8,0)\n",
    "print(employees)\n",
    "print(years)"
   ]
  },
  {
   "cell_type": "code",
   "execution_count": 3,
   "id": "1b2b277d",
   "metadata": {},
   "outputs": [
    {
     "name": "stdout",
     "output_type": "stream",
     "text": [
      "['Beth', 'Gina', 'Drew', 'Alex', 'Emma', 'Herb', 'Chad', 'Iris']\n",
      "[15, 12, 8, 5, 6, 3, 2, 0]\n"
     ]
    }
   ],
   "source": [
    "employees.remove('Fred')\n",
    "years.remove(11)\n",
    "years[4]=6\n",
    "print(employees)\n",
    "print(years)"
   ]
  },
  {
   "cell_type": "markdown",
   "id": "741ddd95",
   "metadata": {},
   "source": [
    "## Problem 2: Sorting and slicing Lists"
   ]
  },
  {
   "cell_type": "code",
   "execution_count": 4,
   "id": "02cf861e",
   "metadata": {},
   "outputs": [],
   "source": [
    "import random\n",
    "random.seed(12)\n",
    "random_list = random.sample(range(500), 99) "
   ]
  },
  {
   "cell_type": "code",
   "execution_count": 5,
   "id": "c61bd516",
   "metadata": {},
   "outputs": [
    {
     "name": "stdout",
     "output_type": "stream",
     "text": [
      "Lengh of random_list:  99\n",
      "First 10 Elements of random_list:  [242, 137, 336, 270, 341, 179, 73, 195, 5, 191]\n"
     ]
    }
   ],
   "source": [
    "print(\"Lengh of random_list: \",len(random_list))\n",
    "print(\"First 10 Elements of random_list: \",random_list[ :10])"
   ]
  },
  {
   "cell_type": "code",
   "execution_count": 6,
   "id": "728c36ca",
   "metadata": {},
   "outputs": [
    {
     "name": "stdout",
     "output_type": "stream",
     "text": [
      "The sum of the elements in random list is 23739.\n"
     ]
    }
   ],
   "source": [
    "print(\"The sum of the elements in random list is \",sum(random_list),\".\",sep=\"\")"
   ]
  },
  {
   "cell_type": "code",
   "execution_count": 7,
   "id": "60ace456",
   "metadata": {},
   "outputs": [
    {
     "name": "stdout",
     "output_type": "stream",
     "text": [
      "First 10 Elements of sorted_list:  [0, 5, 9, 15, 26, 30, 31, 38, 42, 44]\n",
      "First 10 Elements of random_list:  [242, 137, 336, 270, 341, 179, 73, 195, 5, 191]\n"
     ]
    }
   ],
   "source": [
    "sorted_list=sorted(random_list)\n",
    "print(\"First 10 Elements of sorted_list: \",sorted_list[:10])\n",
    "print(\"First 10 Elements of random_list: \",random_list[:10])"
   ]
  },
  {
   "cell_type": "code",
   "execution_count": 8,
   "id": "e3c97816",
   "metadata": {},
   "outputs": [
    {
     "name": "stdout",
     "output_type": "stream",
     "text": [
      "The smallest element of bot_slice is 0.\n",
      "The largest element of bot_slice is 173.\n",
      "\n",
      "The smallest element of mid_slice is 179.\n",
      "The largest element of mid_slice is 311.\n",
      "\n",
      "The smallest element of top_slice is 318.\n",
      "The largest element of top_slice is 484.\n",
      "\n"
     ]
    }
   ],
   "source": [
    "bot_slice=sorted_list[:33]\n",
    "mid_slice=sorted_list[33:66]\n",
    "top_slice=sorted_list[66:]\n",
    "print(\"The smallest element of bot_slice is \",min(bot_slice),\".\",sep=\"\")\n",
    "print(\"The largest element of bot_slice is \",max(bot_slice),\".\",sep=\"\")\n",
    "print()\n",
    "print(\"The smallest element of mid_slice is \",min(mid_slice),\".\",sep=\"\")\n",
    "print(\"The largest element of mid_slice is \",max(mid_slice),\".\",sep=\"\")\n",
    "print()\n",
    "print(\"The smallest element of top_slice is \",min(top_slice),\".\",sep=\"\")\n",
    "print(\"The largest element of top_slice is \",max(top_slice),\".\",sep=\"\")\n",
    "print()\n"
   ]
  },
  {
   "cell_type": "markdown",
   "id": "d6f92b90",
   "metadata": {},
   "source": [
    "## Problem 3: Calculating Sum of Squared Errors"
   ]
  },
  {
   "cell_type": "code",
   "execution_count": 9,
   "id": "ae093c19",
   "metadata": {},
   "outputs": [],
   "source": [
    "length = [22.7, 22.4, 25.8, 21.3, 20.1, 22.1, 21.1, 25.3, 26.9, 26.9,                  \n",
    "          23.0, 23.8, 26.2, 20.4, 23.0, 21.9, 23.5, 27.8, 25.3, 25.9]\n",
    "weight = [9.2, 8.8, 10.7,  8.3, 6.2, 8.6, 7.2, 11.2, 10.5, 11.3, \n",
    "         9.6, 9.9, 10.9,  5.9, 9.5, 9.1, 9.7, 11.6, 10.2, 10.5]"
   ]
  },
  {
   "cell_type": "code",
   "execution_count": 10,
   "id": "dfa7fd96",
   "metadata": {},
   "outputs": [
    {
     "name": "stdout",
     "output_type": "stream",
     "text": [
      "[8.42, 8.24, 10.28, 7.58, 6.86, 8.06, 7.46, 9.98, 10.94, 10.94, 8.6, 9.08, 10.52, 7.04, 8.6, 7.94, 8.9, 11.48, 9.98, 10.34]\n"
     ]
    }
   ],
   "source": [
    "pred_weight =[]\n",
    "for i in range(len(length)):\n",
    "    new_pred =round ( 0.6 * length[i] - 5.2 ,2)\n",
    "    pred_weight.append(new_pred)\n",
    "print(pred_weight)"
   ]
  },
  {
   "cell_type": "code",
   "execution_count": 11,
   "id": "172aea7a",
   "metadata": {},
   "outputs": [
    {
     "name": "stdout",
     "output_type": "stream",
     "text": [
      "10.2236\n"
     ]
    }
   ],
   "source": [
    "sse=0\n",
    "for i in range(len(weight)):\n",
    "    weight_pred2 = (weight[i]-pred_weight[i])**2\n",
    "    sse+=weight_pred2\n",
    "print(round(sse,4))    \n"
   ]
  },
  {
   "cell_type": "markdown",
   "id": "48d0d9ab",
   "metadata": {},
   "source": [
    "## Problem 4: Calculating Exam Scores"
   ]
  },
  {
   "cell_type": "code",
   "execution_count": 12,
   "id": "2ea83cf1",
   "metadata": {},
   "outputs": [
    {
     "name": "stdout",
     "output_type": "stream",
     "text": [
      "Student 1 Grade: 64%\n",
      "Student 2 Grade: 84%\n"
     ]
    }
   ],
   "source": [
    "correct = [ 'D', 'B', 'C', 'A', 'C', 'D', 'A', 'C', 'C', 'B', 'D', 'A', 'B',\n",
    "           'D', 'C', 'D', 'C', 'D', 'C', 'A', 'B','D','C', 'B', 'A' ]\n",
    "\n",
    "answer1 = [  'A', 'B', 'C', 'A','B', 'D', 'A', 'A', 'C', 'B', 'D', 'A', 'D', \n",
    "          'C', 'C', 'B', 'C', 'D', 'B', 'A', 'D', 'D', 'C', 'C', 'A' ]\n",
    "\n",
    "answer2 = [ 'D', 'A', 'C', 'A', 'B', 'D', 'A', 'C', 'C', 'B', 'D', 'A', 'B', 'D', 'A', 'D',\n",
    "           'C', 'D', 'C', 'A', 'B', 'C', 'C', 'B', 'A']\n",
    "count1=0\n",
    "count2=0\n",
    "for i in range(len(correct)):\n",
    "    if(correct[i] == answer1[i]):\n",
    "        count1 = count1 + 1\n",
    "    if(correct[i] == answer2[i]):\n",
    "        count2 = count2 + 1\n",
    "grade1 = int((count1/len(correct))*100)        \n",
    "grade2 = int((count2/len(correct))*100)   \n",
    "print(\"Student 1 Grade: \",grade1,\"%\",sep=\"\")\n",
    "print(\"Student 2 Grade: \",grade2,\"%\",sep=\"\")"
   ]
  },
  {
   "cell_type": "markdown",
   "id": "c7c428f0",
   "metadata": {},
   "source": [
    "## Problem 5: Determining Monthly Payments"
   ]
  },
  {
   "cell_type": "code",
   "execution_count": 13,
   "id": "c8fd18fd",
   "metadata": {},
   "outputs": [
    {
     "name": "stdout",
     "output_type": "stream",
     "text": [
      "A loan of $100000 would require monthly payments of $1683.44.\n",
      "A loan of $110000 would require monthly payments of $1851.78.\n",
      "A loan of $120000 would require monthly payments of $2020.12.\n",
      "A loan of $130000 would require monthly payments of $2188.47.\n",
      "A loan of $140000 would require monthly payments of $2356.81.\n",
      "A loan of $150000 would require monthly payments of $2525.15.\n",
      "A loan of $160000 would require monthly payments of $2693.5.\n",
      "A loan of $170000 would require monthly payments of $2861.84.\n",
      "A loan of $180000 would require monthly payments of $3030.18.\n",
      "A loan of $190000 would require monthly payments of $3198.53.\n"
     ]
    }
   ],
   "source": [
    "i = 0.004\n",
    "n = 360\n",
    "start= 100000\n",
    "increment = 10000\n",
    "price = 200000\n",
    "for j in range(start,price,increment):\n",
    "    new_loan = j\n",
    "    pmt = new_loan / ((1 + i) ** (-n) / i)\n",
    "    pmt = round(pmt,2)\n",
    "    print(\"A loan of \" , \"$\" , j  ,\" would require monthly payments of \", \"$\" ,pmt ,\".\",sep=\"\")"
   ]
  },
  {
   "cell_type": "markdown",
   "id": "8feb626a",
   "metadata": {},
   "source": [
    "## Problem 6: Creating an Amortization Schedule"
   ]
  },
  {
   "cell_type": "code",
   "execution_count": 14,
   "id": "3ee49046",
   "metadata": {},
   "outputs": [
    {
     "name": "stdout",
     "output_type": "stream",
     "text": [
      "The balance at the end of 12  months will be $157553.12.\n",
      "The balance at the end of 24  months will be $154986.16.\n",
      "The balance at the end of 36  months will be $152293.23.\n",
      "The balance at the end of 48  months will be $149468.18.\n",
      "The balance at the end of 60  months will be $146504.5.\n",
      "The balance at the end of 72  months will be $143395.39.\n",
      "The balance at the end of 84  months will be $140133.72.\n",
      "The balance at the end of 96  months will be $136711.97.\n",
      "The balance at the end of 108  months will be $133122.33.\n",
      "The balance at the end of 120  months will be $129356.56.\n",
      "The balance at the end of 132  months will be $125406.0.\n",
      "The balance at the end of 144  months will be $121261.57.\n",
      "The balance at the end of 156  months will be $116913.78.\n",
      "The balance at the end of 168  months will be $112352.64.\n",
      "The balance at the end of 180  months will be $107567.68.\n",
      "The balance at the end of 192  months will be $102547.91.\n",
      "The balance at the end of 204  months will be $97281.84.\n",
      "The balance at the end of 216  months will be $91757.37.\n",
      "The balance at the end of 228  months will be $85961.81.\n",
      "The balance at the end of 240  months will be $79881.85.\n",
      "The balance at the end of 252  months will be $73503.55.\n",
      "The balance at the end of 264  months will be $66812.25.\n",
      "The balance at the end of 276  months will be $59792.61.\n",
      "The balance at the end of 288  months will be $52428.53.\n",
      "The balance at the end of 300  months will be $44703.11.\n",
      "The balance at the end of 312  months will be $36598.58.\n",
      "The balance at the end of 324  months will be $28096.34.\n",
      "The balance at the end of 336  months will be $19176.93.\n",
      "The balance at the end of 348  months will be $9819.84.\n",
      "The balance at the end of 360  months will be $3.59.\n"
     ]
    }
   ],
   "source": [
    "balance=160000\n",
    "i=0.004\n",
    "pmt=839.46\n",
    "for j in range(1,361):\n",
    "    balance=balance*(i+1)\n",
    "    balance=balance-pmt\n",
    "    balance=round(balance,2)\n",
    "    if(j%12==0):\n",
    "        print(\"The balance at the end of \", j ,\"  months will be \", \"$\", balance ,\".\",sep=\"\")\n",
    "\n"
   ]
  },
  {
   "cell_type": "markdown",
   "id": "2f89d563",
   "metadata": {},
   "source": [
    "## Problem 7: Calculating Price of a Bulk Order"
   ]
  },
  {
   "cell_type": "code",
   "execution_count": 15,
   "id": "061b19d0",
   "metadata": {},
   "outputs": [
    {
     "name": "stdout",
     "output_type": "stream",
     "text": [
      "The cost for an order of 84 Widgets is $29400.\n",
      "The cost for an order of 100 Widgets is $35000.\n",
      "The cost for an order of 126 Widgets is $42800.\n",
      "The cost for an order of 150 Widgets is $50000.\n",
      "The cost for an order of 186 Widgets is $60800.\n",
      "The cost for an order of 200 Widgets is $65000.\n",
      "The cost for an order of 216 Widgets is $69000.\n",
      "The cost for an order of 248 Widgets is $77000.\n"
     ]
    }
   ],
   "source": [
    "quantities=[84,100,126,150,186,200,216,248]\n",
    "for i in quantities:\n",
    "    if i <= 100:\n",
    "        price = i * 350\n",
    "    elif i <= 200:\n",
    "        price = 100 * 350 + (i -100) * 300\n",
    "    else:\n",
    "        price = 100 * 350 + 100 * 300 + (i-200) * 250\n",
    "    print(\"The cost for an order of \", i , \" Widgets is \",\"$\", price,\".\",sep=\"\" )"
   ]
  },
  {
   "cell_type": "markdown",
   "id": "ece68bc8",
   "metadata": {},
   "source": [
    "## Problem 8: Adding Matrices"
   ]
  },
  {
   "cell_type": "code",
   "execution_count": 16,
   "id": "b71360c0",
   "metadata": {},
   "outputs": [
    {
     "name": "stdout",
     "output_type": "stream",
     "text": [
      "[48, 72, 71, 43, 72]\n",
      "[65, 65, 65, 33, 44]\n",
      "[73, 68, 55, 41, 41]\n"
     ]
    }
   ],
   "source": [
    "A=[[13, 43, 28, 22, 41],\n",
    "  [17, 39, 46, 16, 21],\n",
    "  [41, 34, 31, 25, 14]]\n",
    "\n",
    "B=[[35, 29, 43, 21, 31],\n",
    "  [48, 26, 19, 17, 23],\n",
    "  [32, 34, 24, 16, 27]]\n",
    "\n",
    "AplusB=[]\n",
    "for i in range(len(A)):\n",
    "    sum_row =[]\n",
    "    for j in range(len(A[i])):\n",
    "        sum_row .append(A[i][j] + B[i][j])\n",
    "    AplusB.append(sum_row )\n",
    "for n in AplusB:\n",
    "    print(n)        \n"
   ]
  }
 ],
 "metadata": {
  "kernelspec": {
   "display_name": "Python 3 (ipykernel)",
   "language": "python",
   "name": "python3"
  },
  "language_info": {
   "codemirror_mode": {
    "name": "ipython",
    "version": 3
   },
   "file_extension": ".py",
   "mimetype": "text/x-python",
   "name": "python",
   "nbconvert_exporter": "python",
   "pygments_lexer": "ipython3",
   "version": "3.11.5"
  }
 },
 "nbformat": 4,
 "nbformat_minor": 5
}
