{
 "cells": [
  {
   "cell_type": "markdown",
   "id": "cd2e8664",
   "metadata": {},
   "source": [
    "## Problem 1: Dot Product"
   ]
  },
  {
   "cell_type": "code",
   "execution_count": 1,
   "id": "1e32f7ee",
   "metadata": {},
   "outputs": [],
   "source": [
    "def dot_product(x,y):\n",
    "    result = 0\n",
    "    for i in range(len(x)):\n",
    "        result += x[i] * y[i]\n",
    "    return result"
   ]
  },
  {
   "cell_type": "code",
   "execution_count": 2,
   "id": "b224b695",
   "metadata": {},
   "outputs": [
    {
     "name": "stdout",
     "output_type": "stream",
     "text": [
      "The dot product of v1 and v2 is 16220.\n"
     ]
    }
   ],
   "source": [
    "v1 = [38, 9, 40, 34, 20, 16, 42, 36, 12, 1, 23, 46, 31, 19, 30, 33, 16, 43, 24, 41]\n",
    "v2 = [43, 13, 35, 14, 26, 3, 36, 15, 42, 44, 45, 20, 17, 6, 47, 40, 38, 41, 31, 24]\n",
    "\n",
    "result = dot_product(v1, v2)\n",
    "print(\"The dot product of v1 and v2 is \",result,\".\",sep=\"\")"
   ]
  },
  {
   "cell_type": "markdown",
   "id": "058a477c",
   "metadata": {},
   "source": [
    "## Problem 2: Amortization"
   ]
  },
  {
   "cell_type": "code",
   "execution_count": 3,
   "id": "893ea83d",
   "metadata": {},
   "outputs": [],
   "source": [
    "def count_payments(amount,rate,pmt):\n",
    "    balance = amount\n",
    "    number_monthly_payment = 0\n",
    "    while balance > 0:\n",
    "        balance = round(balance * (1 + rate) - pmt, 2)\n",
    "        number_monthly_payment += 1\n",
    "    return number_monthly_payment"
   ]
  },
  {
   "cell_type": "code",
   "execution_count": 4,
   "id": "ebb411e8",
   "metadata": {
    "scrolled": true
   },
   "outputs": [
    {
     "name": "stdout",
     "output_type": "stream",
     "text": [
      "351 monthly payments of $850 would be required.\n",
      "312 monthly payments of $900 would be required.\n",
      "281 monthly payments of $950 would be required.\n",
      "256 monthly payments of $1000 would be required.\n",
      "236 monthly payments of $1050 would be required.\n"
     ]
    }
   ],
   "source": [
    "loan_amount = 160000\n",
    "monthly_interest_rate = 0.004  \n",
    "payment = 850 \n",
    "while True:\n",
    "    number_monthly_payment = count_payments(loan_amount, monthly_interest_rate, payment)\n",
    "    print(number_monthly_payment, \" monthly payments of \", \"$\",payment, \" would be required\",\".\",sep=\"\")\n",
    "    if payment == 1050: \n",
    "        break\n",
    "    payment += 50"
   ]
  },
  {
   "cell_type": "code",
   "execution_count": 5,
   "id": "9403c664",
   "metadata": {},
   "outputs": [
    {
     "name": "stdout",
     "output_type": "stream",
     "text": [
      "308 monthly payments of $850 would be required.\n",
      "279 monthly payments of $900 would be required.\n",
      "255 monthly payments of $950 would be required.\n",
      "235 monthly payments of $1000 would be required.\n",
      "219 monthly payments of $1050 would be required.\n"
     ]
    }
   ],
   "source": [
    "loan_amount = 160000\n",
    "new_monthly_interest_rate = 0.0035  \n",
    "payment = 850  \n",
    "while True:\n",
    "    number_monthly_payment = count_payments(loan_amount, new_monthly_interest_rate, payment)\n",
    "    print(number_monthly_payment, \" monthly payments of \", \"$\",payment, \" would be required\",\".\",sep=\"\")\n",
    "    if payment == 1050: \n",
    "        break\n",
    "    payment += 50"
   ]
  },
  {
   "cell_type": "markdown",
   "id": "265efe54",
   "metadata": {},
   "source": [
    "## Problem 3: Minimum "
   ]
  },
  {
   "cell_type": "code",
   "execution_count": 6,
   "id": "6244274e",
   "metadata": {},
   "outputs": [],
   "source": [
    "def minimum(x):\n",
    "    value = x[0] \n",
    "    for i in range(1, len(x)): \n",
    "        if x[i] < value:\n",
    "            value = x[i]\n",
    "    return value"
   ]
  },
  {
   "cell_type": "code",
   "execution_count": 7,
   "id": "defaf386",
   "metadata": {
    "scrolled": true
   },
   "outputs": [
    {
     "name": "stdout",
     "output_type": "stream",
     "text": [
      "4.1\n",
      "3.4\n",
      "Chicago\n"
     ]
    }
   ],
   "source": [
    "list1 = [9.8, 7.4, 5.6, 4.8, 4.8, 5.3, 4.1, 9.6, 5.4]\n",
    "list2 = [3.4, 7.6, 8.7, 7.5, 9.8, 7.5, 6.7, 8.7, 8.4]\n",
    "list3 = [\"St. Louis\", \"Kansas City\", \"Chicago\", \"Little Rock\", \"Omaha\"]\n",
    "print(minimum(list1))\n",
    "print(minimum(list2))\n",
    "print(minimum(list3))\n"
   ]
  },
  {
   "cell_type": "markdown",
   "id": "fa2f671e",
   "metadata": {},
   "source": [
    "## Problem 4: Argmin "
   ]
  },
  {
   "cell_type": "code",
   "execution_count": 8,
   "id": "567d4db4",
   "metadata": {},
   "outputs": [],
   "source": [
    "def argmin(x):\n",
    "    value = x[0]\n",
    "    value_index = 0\n",
    "    for i in range(1, len(x)):\n",
    "        if x[i] < value:\n",
    "            value = x[i]\n",
    "            value_index = i\n",
    "    return value_index"
   ]
  },
  {
   "cell_type": "code",
   "execution_count": 9,
   "id": "324a323c",
   "metadata": {},
   "outputs": [
    {
     "name": "stdout",
     "output_type": "stream",
     "text": [
      "6\n",
      "0\n",
      "2\n"
     ]
    }
   ],
   "source": [
    "list1 = [9.8, 7.4, 5.6, 4.8, 4.8, 5.3, 4.1, 9.6, 5.4]\n",
    "list2 = [3.4, 7.6, 8.7, 7.5, 9.8, 7.5, 6.7, 8.7, 8.4]\n",
    "list3 = ['St. Louis', 'Kansas City', 'Chicago', 'Little Rock', 'Omaha']\n",
    "print(argmin(list1))\n",
    "print(argmin(list2))\n",
    "print(argmin(list3))"
   ]
  },
  {
   "cell_type": "markdown",
   "id": "73a36294",
   "metadata": {},
   "source": [
    "## Problem 5: Find Smallest Elements "
   ]
  },
  {
   "cell_type": "code",
   "execution_count": 10,
   "id": "045a7dfe",
   "metadata": {},
   "outputs": [],
   "source": [
    "def find_smallest(x, n=None):\n",
    "    if n is None:\n",
    "        return minimum(x)\n",
    "    elif n > 0 and n <= len(x):\n",
    "        sorted_x = sorted(x)\n",
    "        return sorted_x[:n]\n",
    "    elif n > len(x):\n",
    "        return x[0:n]"
   ]
  },
  {
   "cell_type": "code",
   "execution_count": 11,
   "id": "951f4b7d",
   "metadata": {},
   "outputs": [
    {
     "name": "stdout",
     "output_type": "stream",
     "text": [
      "17\n",
      "[17]\n",
      "[17, 28]\n",
      "[17, 28, 28, 39, 53]\n",
      "[39, 74, 28, 64, 17, 28, 54, 53]\n"
     ]
    }
   ],
   "source": [
    "my_list=[39, 74, 28, 64, 17, 28, 54, 53]\n",
    "print(find_smallest(my_list))\n",
    "print(find_smallest(my_list, 1))\n",
    "print(find_smallest(my_list, 2))\n",
    "print(find_smallest(my_list, 5))\n",
    "print(find_smallest(my_list, 12))"
   ]
  },
  {
   "cell_type": "code",
   "execution_count": 12,
   "id": "bbcef17c",
   "metadata": {},
   "outputs": [
    {
     "name": "stdout",
     "output_type": "stream",
     "text": [
      "[39, 74, 28, 64, 17, 28, 54, 53]\n"
     ]
    }
   ],
   "source": [
    "print(my_list)"
   ]
  },
  {
   "cell_type": "markdown",
   "id": "b183ed93",
   "metadata": {},
   "source": [
    "## Problem 6: Find Unique Elements"
   ]
  },
  {
   "cell_type": "code",
   "execution_count": 13,
   "id": "2ea87a33",
   "metadata": {},
   "outputs": [],
   "source": [
    "def unique(x):\n",
    "    unique_list = []\n",
    "    for value_list in x:\n",
    "        if value_list not in unique_list:\n",
    "            unique_list.append(value_list)\n",
    "    unique_list.sort()\n",
    "    return unique_list"
   ]
  },
  {
   "cell_type": "code",
   "execution_count": 14,
   "id": "2265098d",
   "metadata": {},
   "outputs": [
    {
     "name": "stdout",
     "output_type": "stream",
     "text": [
      "[12, 14, 16, 19, 23]\n",
      "['bat', 'cat', 'dog', 'frog']\n"
     ]
    }
   ],
   "source": [
    "int_list = [23, 16, 23, 12, 14, 23, 12, 19, 19]\n",
    "str_list = ['cat', 'dog', 'dog', 'cat', 'bat', 'frog', 'dog', 'frog']\n",
    "print(unique(int_list))\n",
    "print(unique(str_list))"
   ]
  },
  {
   "cell_type": "markdown",
   "id": "72de7d12",
   "metadata": {},
   "source": [
    "## Problem 7: Frequency Distribution "
   ]
  },
  {
   "cell_type": "code",
   "execution_count": 15,
   "id": "78c51698",
   "metadata": {},
   "outputs": [],
   "source": [
    "def freq_dist(x):\n",
    "    def unique(x):\n",
    "        unique_list = []\n",
    "        for value_list in x:\n",
    "            if value_list not in unique_list:\n",
    "                unique_list.append(value_list)\n",
    "        unique_list.sort()\n",
    "        return unique_list\n",
    "    values = unique(x)\n",
    "    counts = []\n",
    "    for value in values:\n",
    "        count = x.count(value)\n",
    "        counts.append(count)\n",
    "    return values, counts"
   ]
  },
  {
   "cell_type": "code",
   "execution_count": 16,
   "id": "9bcd2f4e",
   "metadata": {},
   "outputs": [
    {
     "name": "stdout",
     "output_type": "stream",
     "text": [
      "Unique Values:\t ['A', 'B', 'C', 'D', 'F']\n",
      "Frequencies:\t [6, 8, 5, 5, 3]\n"
     ]
    }
   ],
   "source": [
    "grades = ['A', 'D', 'A', 'C', 'B', 'F', 'A', 'D', 'C', \n",
    "          'B', 'F', 'A', 'C', 'B', 'A', 'B', 'B', 'C', \n",
    "          'B', 'F', 'D', 'D', 'A', 'C', 'B', 'B', 'D']\n",
    "unique_values, frequencies = freq_dist(grades)\n",
    "print(\"Unique Values:\\t\", unique_values)\n",
    "print(\"Frequencies:\\t\", frequencies)"
   ]
  },
  {
   "cell_type": "markdown",
   "id": "4559d3a7",
   "metadata": {},
   "source": [
    "## Problem 8: Weighed Means "
   ]
  },
  {
   "cell_type": "code",
   "execution_count": 17,
   "id": "b5fdd036",
   "metadata": {},
   "outputs": [],
   "source": [
    "def mean(x, w=None):\n",
    "    if w is None:\n",
    "        return sum(x)/len(x)\n",
    "    elif type(w) == list:\n",
    "        for i in range(len(x)):\n",
    "                      x[i] = x[i] * w[i]\n",
    "        return sum(x)/sum(w) \n",
    "    else:\n",
    "        weighted_sum = sum(xi * wi for xi, wi in zip(x, w))\n",
    "        total_weight = sum(w)\n",
    "        return weighted_sum / total_weight"
   ]
  },
  {
   "cell_type": "code",
   "execution_count": 18,
   "id": "b4d01d80",
   "metadata": {},
   "outputs": [
    {
     "name": "stdout",
     "output_type": "stream",
     "text": [
      "Standard Mean: 4.9\n",
      "Weighted Mean: 4.15\n"
     ]
    }
   ],
   "source": [
    "values = [4, 7, 3, 5, 2, 6, 8, 2, 4, 8]\n",
    "weights = [2, 1, 3, 1, 2, 3, 1, 4, 2, 1] \n",
    "standard_mean = mean(values)\n",
    "weighted_mean = mean(values, weights)\n",
    "print(\"Standard Mean:\", standard_mean)\n",
    "print(\"Weighted Mean:\", weighted_mean)"
   ]
  }
 ],
 "metadata": {
  "kernelspec": {
   "display_name": "Python 3 (ipykernel)",
   "language": "python",
   "name": "python3"
  },
  "language_info": {
   "codemirror_mode": {
    "name": "ipython",
    "version": 3
   },
   "file_extension": ".py",
   "mimetype": "text/x-python",
   "name": "python",
   "nbconvert_exporter": "python",
   "pygments_lexer": "ipython3",
   "version": "3.11.5"
  }
 },
 "nbformat": 4,
 "nbformat_minor": 5
}
