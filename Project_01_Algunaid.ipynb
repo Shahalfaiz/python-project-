{
 "cells": [
  {
   "cell_type": "markdown",
   "id": "c9895427",
   "metadata": {},
   "source": [
    "# Introduction\n",
    "In this project we will working on gapminder dataset. This data contains socioeconomic data for 184 countries recorded over a period of 219 years from 1800 to 2018"
   ]
  },
  {
   "cell_type": "code",
   "execution_count": 1,
   "id": "c2c05816",
   "metadata": {},
   "outputs": [
    {
     "data": {
      "text/html": [
       "<div>\n",
       "<style scoped>\n",
       "    .dataframe tbody tr th:only-of-type {\n",
       "        vertical-align: middle;\n",
       "    }\n",
       "\n",
       "    .dataframe tbody tr th {\n",
       "        vertical-align: top;\n",
       "    }\n",
       "\n",
       "    .dataframe thead th {\n",
       "        text-align: right;\n",
       "    }\n",
       "</style>\n",
       "<table border=\"1\" class=\"dataframe\">\n",
       "  <thead>\n",
       "    <tr style=\"text-align: right;\">\n",
       "      <th></th>\n",
       "      <th>country</th>\n",
       "      <th>year</th>\n",
       "      <th>continent</th>\n",
       "      <th>population</th>\n",
       "      <th>life_exp</th>\n",
       "      <th>gdp_per_cap</th>\n",
       "      <th>gini</th>\n",
       "    </tr>\n",
       "  </thead>\n",
       "  <tbody>\n",
       "    <tr>\n",
       "      <th>0</th>\n",
       "      <td>Afghanistan</td>\n",
       "      <td>1800</td>\n",
       "      <td>asia</td>\n",
       "      <td>3280000</td>\n",
       "      <td>28.2</td>\n",
       "      <td>603</td>\n",
       "      <td>30.5</td>\n",
       "    </tr>\n",
       "    <tr>\n",
       "      <th>1</th>\n",
       "      <td>Albania</td>\n",
       "      <td>1800</td>\n",
       "      <td>europe</td>\n",
       "      <td>410000</td>\n",
       "      <td>35.4</td>\n",
       "      <td>667</td>\n",
       "      <td>38.9</td>\n",
       "    </tr>\n",
       "    <tr>\n",
       "      <th>2</th>\n",
       "      <td>Algeria</td>\n",
       "      <td>1800</td>\n",
       "      <td>africa</td>\n",
       "      <td>2500000</td>\n",
       "      <td>28.8</td>\n",
       "      <td>715</td>\n",
       "      <td>56.2</td>\n",
       "    </tr>\n",
       "    <tr>\n",
       "      <th>3</th>\n",
       "      <td>Angola</td>\n",
       "      <td>1800</td>\n",
       "      <td>africa</td>\n",
       "      <td>1570000</td>\n",
       "      <td>27.0</td>\n",
       "      <td>618</td>\n",
       "      <td>57.2</td>\n",
       "    </tr>\n",
       "    <tr>\n",
       "      <th>4</th>\n",
       "      <td>Antigua and Barbuda</td>\n",
       "      <td>1800</td>\n",
       "      <td>americas</td>\n",
       "      <td>37000</td>\n",
       "      <td>33.5</td>\n",
       "      <td>757</td>\n",
       "      <td>40.0</td>\n",
       "    </tr>\n",
       "    <tr>\n",
       "      <th>5</th>\n",
       "      <td>Argentina</td>\n",
       "      <td>1800</td>\n",
       "      <td>americas</td>\n",
       "      <td>534000</td>\n",
       "      <td>33.2</td>\n",
       "      <td>1510</td>\n",
       "      <td>47.7</td>\n",
       "    </tr>\n",
       "    <tr>\n",
       "      <th>6</th>\n",
       "      <td>Armenia</td>\n",
       "      <td>1800</td>\n",
       "      <td>europe</td>\n",
       "      <td>413000</td>\n",
       "      <td>34.0</td>\n",
       "      <td>514</td>\n",
       "      <td>31.5</td>\n",
       "    </tr>\n",
       "    <tr>\n",
       "      <th>7</th>\n",
       "      <td>Australia</td>\n",
       "      <td>1800</td>\n",
       "      <td>asia</td>\n",
       "      <td>351000</td>\n",
       "      <td>34.0</td>\n",
       "      <td>814</td>\n",
       "      <td>38.7</td>\n",
       "    </tr>\n",
       "    <tr>\n",
       "      <th>8</th>\n",
       "      <td>Austria</td>\n",
       "      <td>1800</td>\n",
       "      <td>europe</td>\n",
       "      <td>3210000</td>\n",
       "      <td>34.4</td>\n",
       "      <td>1850</td>\n",
       "      <td>33.4</td>\n",
       "    </tr>\n",
       "    <tr>\n",
       "      <th>9</th>\n",
       "      <td>Azerbaijan</td>\n",
       "      <td>1800</td>\n",
       "      <td>europe</td>\n",
       "      <td>880000</td>\n",
       "      <td>29.2</td>\n",
       "      <td>775</td>\n",
       "      <td>70.5</td>\n",
       "    </tr>\n",
       "  </tbody>\n",
       "</table>\n",
       "</div>"
      ],
      "text/plain": [
       "               country  year continent  population  life_exp  gdp_per_cap  \\\n",
       "0          Afghanistan  1800      asia     3280000      28.2          603   \n",
       "1              Albania  1800    europe      410000      35.4          667   \n",
       "2              Algeria  1800    africa     2500000      28.8          715   \n",
       "3               Angola  1800    africa     1570000      27.0          618   \n",
       "4  Antigua and Barbuda  1800  americas       37000      33.5          757   \n",
       "5            Argentina  1800  americas      534000      33.2         1510   \n",
       "6              Armenia  1800    europe      413000      34.0          514   \n",
       "7            Australia  1800      asia      351000      34.0          814   \n",
       "8              Austria  1800    europe     3210000      34.4         1850   \n",
       "9           Azerbaijan  1800    europe      880000      29.2          775   \n",
       "\n",
       "   gini  \n",
       "0  30.5  \n",
       "1  38.9  \n",
       "2  56.2  \n",
       "3  57.2  \n",
       "4  40.0  \n",
       "5  47.7  \n",
       "6  31.5  \n",
       "7  38.7  \n",
       "8  33.4  \n",
       "9  70.5  "
      ]
     },
     "execution_count": 1,
     "metadata": {},
     "output_type": "execute_result"
    }
   ],
   "source": [
    "import pandas as pd\n",
    "df = pd.read_csv('gapminder_data.txt', sep='\\t')\n",
    "df.head(10)\n"
   ]
  },
  {
   "cell_type": "code",
   "execution_count": 2,
   "id": "dd8bb909",
   "metadata": {},
   "outputs": [],
   "source": [
    "country = df.country.to_list()\n",
    "continent = df.continent.to_list()\n",
    "year = df.year.to_list()\n",
    "population = df.population.to_list()\n",
    "life_exp = df.life_exp.to_list()\n",
    "pcgdp = df.gdp_per_cap.to_list()\n",
    "gini = df.gini.to_list()"
   ]
  },
  {
   "cell_type": "code",
   "execution_count": 3,
   "id": "2e0f88b9",
   "metadata": {},
   "outputs": [
    {
     "name": "stdout",
     "output_type": "stream",
     "text": [
      "Country:  Jamaica\n",
      "Continent:  americas\n",
      "Year:  1805\n",
      "Population:  401000\n",
      "Life Expectancy:  34.2\n",
      "Per Capita GDP:  1170\n",
      "Gini Index:  41.3\n"
     ]
    }
   ],
   "source": [
    "N=1000\n",
    "print('Country: ', country[N])\n",
    "print('Continent: ', continent[N])\n",
    "print('Year: ', year[N])\n",
    "print('Population: ', population[N])\n",
    "print('Life Expectancy: ', life_exp[N])\n",
    "print('Per Capita GDP: ', pcgdp[N])\n",
    "print('Gini Index: ', gini[N])\n",
    "\n"
   ]
  },
  {
   "cell_type": "markdown",
   "id": "b7d4cecb",
   "metadata": {},
   "source": [
    "# Part 1: Displaying Past 20 Years of US Data\n",
    "we will display the last twenty years of data for the United States"
   ]
  },
  {
   "cell_type": "code",
   "execution_count": 4,
   "id": "54a402df",
   "metadata": {},
   "outputs": [
    {
     "name": "stdout",
     "output_type": "stream",
     "text": [
      "Year    Country    Population    LExp    pcGDP    Gini\n",
      "------------------------------------------------------\n",
      "1999  United States   279000000   76.8    44700   40.5\n",
      "2000  United States   282000000   76.9    46000   40.5\n",
      "2001  United States   285000000   77.0    46000   40.5\n",
      "2002  United States   288000000   77.1    46400   40.5\n",
      "2003  United States   290000000   77.3    47300   40.5\n",
      "2004  United States   293000000   77.5    48600   40.6\n",
      "2005  United States   295000000   77.7    49800   40.7\n",
      "2006  United States   298000000   77.9    50600   40.8\n",
      "2007  United States   301000000   78.1    51000   40.8\n",
      "2008  United States   303000000   78.3    50400   40.8\n",
      "2009  United States   306000000   78.6    48600   40.7\n",
      "2010  United States   309000000   78.7    49400   40.7\n",
      "2011  United States   311000000   78.8    49800   40.7\n",
      "2012  United States   313000000   78.9    50500   40.8\n",
      "2013  United States   316000000   78.9    51000   41.0\n",
      "2014  United States   318000000   78.9    51800   41.2\n",
      "2015  United States   320000000   78.8    52800   41.3\n",
      "2016  United States   322000000   78.8    53300   41.4\n",
      "2017  United States   324000000   79.0    54200   41.5\n",
      "2018  United States   327000000   79.1    54900   41.5\n"
     ]
    }
   ],
   "source": [
    "print(\"Year    Country    Population    LExp    pcGDP    Gini\")\n",
    "print(\"------------------------------------------------------\")\n",
    "for i in range(len(country)):\n",
    "    if country[i] == 'United States' and int(year[i]) >= 1999:\n",
    "        print(year[i],\"\",country[i],\" \",population[i],\" \",life_exp[i],\"  \",pcgdp[i],\" \",gini[i])"
   ]
  },
  {
   "cell_type": "markdown",
   "id": "171ff2c0",
   "metadata": {},
   "source": [
    "# Part 2: Selecting the 2018 Data\n",
    "we will only be interested in the data for the year 2018 "
   ]
  },
  {
   "cell_type": "code",
   "execution_count": 5,
   "id": "e1068eb8",
   "metadata": {},
   "outputs": [
    {
     "name": "stdout",
     "output_type": "stream",
     "text": [
      "The global population in 2018 was 7595200200.\n"
     ]
    }
   ],
   "source": [
    "country_2018=[]\n",
    "population_2018=[]\n",
    "continent_2018=[]\n",
    "life_exp_2018=[]\n",
    "pcgdp_2018=[]\n",
    "gini_2018=[]\n",
    "for i in range(len(year)):\n",
    "    if year[i] == 2018:\n",
    "        country_2018.append(country[i])\n",
    "        population_2018.append(population[i])\n",
    "        continent_2018.append(continent[i])\n",
    "        life_exp_2018.append(life_exp[i])\n",
    "        pcgdp_2018.append(pcgdp[i])\n",
    "        gini_2018.append(gini[i])\n",
    "global_population_2018 = sum(population_2018)        \n",
    "print(\"The global population in 2018 was \",global_population_2018,\".\",sep=\"\")        \n"
   ]
  },
  {
   "cell_type": "markdown",
   "id": "02b6a0bc",
   "metadata": {},
   "source": [
    "# Part 3: Identifying Countries with Largest and Smallest Populations\n",
    "we will display a list of the countries with the largest population in 2018, as well as a list of countries with the smallest populations in 2018\n"
   ]
  },
  {
   "cell_type": "code",
   "execution_count": 6,
   "id": "a7eb6502",
   "metadata": {},
   "outputs": [
    {
     "name": "stdout",
     "output_type": "stream",
     "text": [
      "Countries with Largest Populations in 2018\n",
      "-------------------------------------------\n",
      "The population of Bangladesh in 2018 was 166000000.\n",
      "The population of Brazil in 2018 was 211000000.\n",
      "The population of China in 2018 was 1420000000.\n",
      "The population of India in 2018 was 1350000000.\n",
      "The population of Indonesia in 2018 was 267000000.\n",
      "The population of Mexico in 2018 was 131000000.\n",
      "The population of Nigeria in 2018 was 196000000.\n",
      "The population of Pakistan in 2018 was 201000000.\n",
      "The population of Russia in 2018 was 144000000.\n",
      "The population of United States in 2018 was 327000000.\n"
     ]
    }
   ],
   "source": [
    "#largest populations in 2018\n",
    "sorted_population_2018 = sorted(population_2018, reverse=True)\n",
    "tenth_largest_population = sorted_population_2018[9]\n",
    "print(\"Countries with Largest Populations in 2018\")\n",
    "print(\"-------------------------------------------\")\n",
    "for i in range(len(country_2018)):\n",
    "    if population_2018[i] >= tenth_largest_population:\n",
    "        print(\"The population of \", country_2018[i], \" in 2018 was \",population_2018[i],\".\",sep=\"\")"
   ]
  },
  {
   "cell_type": "code",
   "execution_count": 14,
   "id": "c881bff8",
   "metadata": {},
   "outputs": [
    {
     "name": "stdout",
     "output_type": "stream",
     "text": [
      "Countries with Largest Populations in 2018\n",
      "-------------------------------------------\n",
      "The population of Afghanistan in 2018 was 36400000.\n",
      "The population of Albania in 2018 was 2930000.\n",
      "The population of Algeria in 2018 was 42000000.\n",
      "The population of Angola in 2018 was 30800000.\n",
      "The population of Antigua and Barbuda in 2018 was 103000.\n",
      "The population of Argentina in 2018 was 44700000.\n",
      "The population of Armenia in 2018 was 2930000.\n",
      "The population of Australia in 2018 was 24800000.\n",
      "The population of Austria in 2018 was 8750000.\n",
      "The population of Azerbaijan in 2018 was 9920000.\n",
      "The population of Bahamas in 2018 was 399000.\n",
      "The population of Bahrain in 2018 was 1570000.\n",
      "The population of Barbados in 2018 was 286000.\n",
      "The population of Belarus in 2018 was 9450000.\n",
      "The population of Belgium in 2018 was 11500000.\n",
      "The population of Belize in 2018 was 382000.\n",
      "The population of Benin in 2018 was 11500000.\n",
      "The population of Bhutan in 2018 was 817000.\n",
      "The population of Bolivia in 2018 was 11200000.\n",
      "The population of Bosnia and Herzegovina in 2018 was 3500000.\n",
      "The population of Botswana in 2018 was 2330000.\n",
      "The population of Brunei in 2018 was 434000.\n",
      "The population of Bulgaria in 2018 was 7040000.\n",
      "The population of Burkina Faso in 2018 was 19800000.\n",
      "The population of Burundi in 2018 was 11200000.\n",
      "The population of Cambodia in 2018 was 16200000.\n",
      "The population of Cameroon in 2018 was 24700000.\n",
      "The population of Canada in 2018 was 37000000.\n",
      "The population of Cape Verde in 2018 was 553000.\n",
      "The population of Central African Republic in 2018 was 4740000.\n",
      "The population of Chad in 2018 was 15400000.\n",
      "The population of Chile in 2018 was 18200000.\n",
      "The population of Colombia in 2018 was 49500000.\n",
      "The population of Comoros in 2018 was 832000.\n",
      "The population of Congo, Dem. Rep. in 2018 was 84000000.\n",
      "The population of Congo, Rep. in 2018 was 5400000.\n",
      "The population of Costa Rica in 2018 was 4950000.\n",
      "The population of Cote d Ivoire in 2018 was 24900000.\n",
      "The population of Croatia in 2018 was 4160000.\n",
      "The population of Cuba in 2018 was 11500000.\n",
      "The population of Cyprus in 2018 was 1190000.\n",
      "The population of Czech Republic in 2018 was 10600000.\n",
      "The population of Denmark in 2018 was 5750000.\n",
      "The population of Djibouti in 2018 was 971000.\n",
      "The population of Dominican Republic in 2018 was 10900000.\n",
      "The population of Ecuador in 2018 was 16900000.\n",
      "The population of Egypt in 2018 was 99400000.\n",
      "The population of El Salvador in 2018 was 6410000.\n",
      "The population of Equatorial Guinea in 2018 was 1310000.\n",
      "The population of Eritrea in 2018 was 5190000.\n",
      "The population of Estonia in 2018 was 1310000.\n",
      "The population of Ethiopia in 2018 was 108000000.\n",
      "The population of Fiji in 2018 was 912000.\n",
      "The population of Finland in 2018 was 5540000.\n",
      "The population of France in 2018 was 65200000.\n",
      "The population of Gabon in 2018 was 2070000.\n",
      "The population of Gambia in 2018 was 2160000.\n",
      "The population of Georgia in 2018 was 3910000.\n",
      "The population of Germany in 2018 was 82300000.\n",
      "The population of Ghana in 2018 was 29500000.\n",
      "The population of Greece in 2018 was 11100000.\n",
      "The population of Grenada in 2018 was 108000.\n",
      "The population of Guatemala in 2018 was 17200000.\n",
      "The population of Guinea in 2018 was 13100000.\n",
      "The population of Guinea-Bissau in 2018 was 1910000.\n",
      "The population of Guyana in 2018 was 782000.\n",
      "The population of Haiti in 2018 was 11100000.\n",
      "The population of Honduras in 2018 was 9420000.\n",
      "The population of Hungary in 2018 was 9690000.\n",
      "The population of Iceland in 2018 was 338000.\n",
      "The population of Iran in 2018 was 82000000.\n",
      "The population of Iraq in 2018 was 39300000.\n",
      "The population of Ireland in 2018 was 4800000.\n",
      "The population of Israel in 2018 was 8450000.\n",
      "The population of Italy in 2018 was 59300000.\n",
      "The population of Jamaica in 2018 was 2900000.\n",
      "The population of Japan in 2018 was 127000000.\n",
      "The population of Jordan in 2018 was 9900000.\n",
      "The population of Kazakhstan in 2018 was 18400000.\n",
      "The population of Kenya in 2018 was 51000000.\n",
      "The population of Kiribati in 2018 was 118000.\n",
      "The population of Kuwait in 2018 was 4200000.\n",
      "The population of Kyrgyz Republic in 2018 was 6130000.\n",
      "The population of Lao in 2018 was 6960000.\n",
      "The population of Latvia in 2018 was 1930000.\n",
      "The population of Lebanon in 2018 was 6090000.\n",
      "The population of Lesotho in 2018 was 2260000.\n",
      "The population of Liberia in 2018 was 4850000.\n",
      "The population of Libya in 2018 was 6470000.\n",
      "The population of Lithuania in 2018 was 2880000.\n",
      "The population of Luxembourg in 2018 was 590000.\n",
      "The population of Macedonia, FYR in 2018 was 2090000.\n",
      "The population of Madagascar in 2018 was 26300000.\n",
      "The population of Malawi in 2018 was 19200000.\n",
      "The population of Malaysia in 2018 was 32000000.\n",
      "The population of Maldives in 2018 was 444000.\n",
      "The population of Mali in 2018 was 19100000.\n",
      "The population of Malta in 2018 was 432000.\n",
      "The population of Mauritania in 2018 was 4540000.\n",
      "The population of Mauritius in 2018 was 1270000.\n",
      "The population of Micronesia, Fed. Sts. in 2018 was 106000.\n",
      "The population of Moldova in 2018 was 4040000.\n",
      "The population of Mongolia in 2018 was 3120000.\n",
      "The population of Montenegro in 2018 was 629000.\n",
      "The population of Morocco in 2018 was 36200000.\n",
      "The population of Mozambique in 2018 was 30500000.\n",
      "The population of Myanmar in 2018 was 53900000.\n",
      "The population of Namibia in 2018 was 2590000.\n",
      "The population of Nepal in 2018 was 29600000.\n",
      "The population of Netherlands in 2018 was 17100000.\n",
      "The population of New Zealand in 2018 was 4750000.\n",
      "The population of Nicaragua in 2018 was 6280000.\n",
      "The population of Niger in 2018 was 22300000.\n",
      "The population of North Korea in 2018 was 25600000.\n",
      "The population of Norway in 2018 was 5350000.\n",
      "The population of Oman in 2018 was 4830000.\n",
      "The population of Palestine in 2018 was 5050000.\n",
      "The population of Panama in 2018 was 4160000.\n",
      "The population of Papua New Guinea in 2018 was 8420000.\n",
      "The population of Paraguay in 2018 was 6900000.\n",
      "The population of Peru in 2018 was 32600000.\n",
      "The population of Philippines in 2018 was 107000000.\n",
      "The population of Poland in 2018 was 38100000.\n",
      "The population of Portugal in 2018 was 10300000.\n",
      "The population of Qatar in 2018 was 2690000.\n",
      "The population of Romania in 2018 was 19600000.\n",
      "The population of Rwanda in 2018 was 12500000.\n",
      "The population of Samoa in 2018 was 198000.\n",
      "The population of Sao Tome and Principe in 2018 was 209000.\n",
      "The population of Saudi Arabia in 2018 was 33600000.\n",
      "The population of Senegal in 2018 was 16300000.\n",
      "The population of Serbia in 2018 was 8760000.\n",
      "The population of Seychelles in 2018 was 95200.\n",
      "The population of Sierra Leone in 2018 was 7720000.\n",
      "The population of Singapore in 2018 was 5790000.\n",
      "The population of Slovak Republic in 2018 was 5450000.\n",
      "The population of Slovenia in 2018 was 2080000.\n",
      "The population of Solomon Islands in 2018 was 623000.\n",
      "The population of Somalia in 2018 was 15200000.\n",
      "The population of South Africa in 2018 was 57400000.\n",
      "The population of South Korea in 2018 was 51200000.\n",
      "The population of South Sudan in 2018 was 12900000.\n",
      "The population of Spain in 2018 was 46400000.\n",
      "The population of Sri Lanka in 2018 was 21000000.\n",
      "The population of St. Lucia in 2018 was 180000.\n",
      "The population of St. Vincent and the Grenadines in 2018 was 110000.\n",
      "The population of Sudan in 2018 was 41500000.\n",
      "The population of Suriname in 2018 was 568000.\n",
      "The population of Swaziland in 2018 was 1390000.\n",
      "The population of Sweden in 2018 was 9980000.\n",
      "The population of Switzerland in 2018 was 8540000.\n",
      "The population of Syria in 2018 was 18300000.\n",
      "The population of Tajikistan in 2018 was 9110000.\n",
      "The population of Tanzania in 2018 was 59100000.\n",
      "The population of Thailand in 2018 was 69200000.\n",
      "The population of Timor-Leste in 2018 was 1320000.\n",
      "The population of Togo in 2018 was 7990000.\n",
      "The population of Tonga in 2018 was 109000.\n",
      "The population of Trinidad and Tobago in 2018 was 1370000.\n",
      "The population of Tunisia in 2018 was 11700000.\n",
      "The population of Turkey in 2018 was 81900000.\n",
      "The population of Turkmenistan in 2018 was 5850000.\n",
      "The population of Uganda in 2018 was 44300000.\n",
      "The population of Ukraine in 2018 was 44000000.\n",
      "The population of United Arab Emirates in 2018 was 9540000.\n",
      "The population of United Kingdom in 2018 was 66600000.\n",
      "The population of Uruguay in 2018 was 3470000.\n",
      "The population of Uzbekistan in 2018 was 32400000.\n",
      "The population of Vanuatu in 2018 was 282000.\n",
      "The population of Venezuela in 2018 was 32400000.\n",
      "The population of Vietnam in 2018 was 96500000.\n",
      "The population of Yemen in 2018 was 28900000.\n",
      "The population of Zambia in 2018 was 17600000.\n",
      "The population of Zimbabwe in 2018 was 16900000.\n"
     ]
    }
   ],
   "source": [
    "sorted_population_2018 = sorted(population_2018, reverse=True)\n",
    "tenth_largest_population = sorted_population_2018[9]\n",
    "print(\"Countries with Largest Populations in 2018\")\n",
    "print(\"-------------------------------------------\")\n",
    "for i in range(len(country_2018)):\n",
    "    if population_2018[i] < tenth_largest_population:\n",
    "        print(\"The population of \", country_2018[i], \" in 2018 was \",population_2018[i],\".\",sep=\"\")"
   ]
  },
  {
   "cell_type": "markdown",
   "id": "fc50938b",
   "metadata": {},
   "source": [
    "# Part 4: Identifying Countries with Highest and Lowest Life Expectancies\n",
    "we will o display a list of the countries with the highest life expectancies in 2018, as well as a list of\n",
    "countries with the lowest life expectancies in 2018. "
   ]
  },
  {
   "cell_type": "code",
   "execution_count": 8,
   "id": "e17843d4",
   "metadata": {},
   "outputs": [
    {
     "name": "stdout",
     "output_type": "stream",
     "text": [
      "Countries with Highest Life Expectancy in 2018\n",
      "----------------------------------------------\n",
      "The life expectancy of Australia in 2018 was 82.9.\n",
      "The life expectancy of France in 2018 was 82.6.\n",
      "The life expectancy of Iceland in 2018 was 82.6.\n",
      "The life expectancy of Israel in 2018 was 82.4.\n",
      "The life expectancy of Italy in 2018 was 82.6.\n",
      "The life expectancy of Japan in 2018 was 84.2.\n",
      "The life expectancy of Luxembourg in 2018 was 82.4.\n",
      "The life expectancy of Norway in 2018 was 82.4.\n",
      "The life expectancy of Singapore in 2018 was 84.0.\n",
      "The life expectancy of Spain in 2018 was 83.2.\n",
      "The life expectancy of Sweden in 2018 was 82.4.\n",
      "The life expectancy of Switzerland in 2018 was 83.5.\n"
     ]
    }
   ],
   "source": [
    "#Highest Life Expectancy in 2018\n",
    "sorted_life_exp_2018 = sorted(life_exp_2018, reverse=True)\n",
    "tenth_highest_life_exp = sorted_life_exp_2018[9]\n",
    "print(\"Countries with Highest Life Expectancy in 2018\")\n",
    "print(\"----------------------------------------------\")\n",
    "for i in range(len(country_2018)):\n",
    "    if life_exp_2018[i] >= tenth_highest_life_exp:\n",
    "        print(\"The life expectancy of \",country_2018[i],\" in 2018 was \",life_exp_2018[i],\".\",sep=\"\")"
   ]
  },
  {
   "cell_type": "code",
   "execution_count": 9,
   "id": "fbd78565",
   "metadata": {},
   "outputs": [
    {
     "name": "stdout",
     "output_type": "stream",
     "text": [
      "Countries with Lowest Life Expectancy in 2018\n",
      "---------------------------------------------\n",
      "The life expectancy of Afghanistan in 2018 was 58.7.\n",
      "The life expectancy of Central African Republic in 2018 was 51.6.\n",
      "The life expectancy of Chad in 2018 was 60.5.\n",
      "The life expectancy of Guinea-Bissau in 2018 was 59.7.\n",
      "The life expectancy of Lesotho in 2018 was 51.1.\n",
      "The life expectancy of Sierra Leone in 2018 was 60.0.\n",
      "The life expectancy of Somalia in 2018 was 58.0.\n",
      "The life expectancy of Swaziland in 2018 was 58.6.\n",
      "The life expectancy of Zambia in 2018 was 59.5.\n",
      "The life expectancy of Zimbabwe in 2018 was 60.2.\n"
     ]
    }
   ],
   "source": [
    "#Lowest Life Expectancy in 2018\n",
    "sorted_life_exp_2018 = sorted(life_exp_2018)\n",
    "tenth_lowest_life_exp = sorted_life_exp_2018[9]\n",
    "print(\"Countries with Lowest Life Expectancy in 2018\")\n",
    "print(\"---------------------------------------------\")\n",
    "for i in range(len(country_2018)):\n",
    "    if life_exp_2018[i] <= tenth_lowest_life_exp:\n",
    "        print(\"The life expectancy of \",country_2018[i],\" in 2018 was \",life_exp_2018[i],\".\",sep=\"\")"
   ]
  },
  {
   "cell_type": "markdown",
   "id": "cbc369bd",
   "metadata": {},
   "source": [
    "# Calculating GDP by Country\n",
    "we will create a list that contains the GDP for each country in 2018, as well as the total GDP of the world as a whole"
   ]
  },
  {
   "cell_type": "code",
   "execution_count": 10,
   "id": "15099941",
   "metadata": {},
   "outputs": [
    {
     "name": "stdout",
     "output_type": "stream",
     "text": [
      "The total global GDP in 2018 was $118225647770000.\n"
     ]
    }
   ],
   "source": [
    "gdp_2018 = []\n",
    "for i in range(len(country_2018)):\n",
    "    gdp_2018.append(pcgdp_2018[i] * population_2018[i])\n",
    "total_global_gdp_2018 = sum(gdp_2018)\n",
    "print(\"The total global GDP in 2018 was \", \"$\",total_global_gdp_2018,\".\",sep=\"\")"
   ]
  },
  {
   "cell_type": "code",
   "execution_count": 11,
   "id": "cdd70fa0",
   "metadata": {},
   "outputs": [
    {
     "name": "stdout",
     "output_type": "stream",
     "text": [
      "The country with the highest GDP in 2018 was Chinawith a GDP of $22720000000000.\n",
      "The country with the lowest GDP in 2018 was Kiribatiwith a GDP of $223020000.\n"
     ]
    }
   ],
   "source": [
    "maximum_gdp = max(gdp_2018)\n",
    "maximum_gdp_index = gdp_2018.index(maximum_gdp)\n",
    "highest_gdp = country_2018[maximum_gdp_index]\n",
    "minimum_gdp = min(gdp_2018)\n",
    "minimum_gdp_index = gdp_2018.index(minimum_gdp)\n",
    "lowest_gdp = country_2018[minimum_gdp_index]\n",
    "print(\"The country with the highest GDP in 2018 was \",highest_gdp , \"with a GDP of \", \"$\",maximum_gdp,\".\",sep=\"\")\n",
    "print(\"The country with the lowest GDP in 2018 was \", lowest_gdp, \"with a GDP of \", \"$\",minimum_gdp,\".\",sep=\"\")"
   ]
  },
  {
   "cell_type": "markdown",
   "id": "a1fa6040",
   "metadata": {},
   "source": [
    "# Part 6: Grouping by Continent\n",
    "We willcalculate the total population, per capita GDP, and life expectancy for each of these\n",
    "regions in 2018."
   ]
  },
  {
   "cell_type": "code",
   "execution_count": 12,
   "id": "5605f347",
   "metadata": {},
   "outputs": [
    {
     "name": "stdout",
     "output_type": "stream",
     "text": [
      "Continent\tPopulation\tpcGDP\tLife Exp\n",
      "-------------------------------------------------\n",
      "africa \t\t 1287150200 \t 4700 \t 65.9\n",
      "americas \t\t 1010978000 \t 28708 \t 77.5\n",
      "asia \t\t 4455113000 \t 12705 \t 73.2\n",
      "europe \t\t 841959000 \t 31534 \t 78.4\n"
     ]
    }
   ],
   "source": [
    "continent_names = [\"africa\", \"americas\",\"asia\",\"europe\"]\n",
    "\n",
    "pcgdp_2018_by_continent = []\n",
    "pop_2018_by_continent = []\n",
    "life_exp_2018_by_continent = []\n",
    "\n",
    "for N in continent_names:\n",
    "    temp_life_exp = 0\n",
    "    temp_pop = 0\n",
    "    temp_gdp = 0\n",
    "    for i in range(len(country_2018)):\n",
    "        if continent_2018[i] == N:\n",
    "            temp_pop += population_2018[i]\n",
    "            temp_gdp += gdp_2018[i]\n",
    "            temp_life_exp += life_exp_2018[i] * population_2018[i]\n",
    "    if temp_pop != 0:        \n",
    "        temp_life_exp /= temp_pop\n",
    "        temp_gdp/=temp_pop\n",
    "    temp_gdp = round(temp_gdp)\n",
    "    temp_life_exp = round(temp_life_exp, 1)\n",
    "    pcgdp_2018_by_continent.append(temp_gdp)\n",
    "    pop_2018_by_continent.append(temp_pop)\n",
    "    life_exp_2018_by_continent.append(temp_life_exp)\n",
    "msg=(f\"Continent\\tPopulation\\tpcGDP\\tLife Exp\")\n",
    "print(msg)\n",
    "print(\"-------------------------------------------------\")\n",
    "for i in range(len(continent_names)):\n",
    "         print(continent_names[i],\"\\t\\t\", pop_2018_by_continent[i],\"\\t\",pcgdp_2018_by_continent[i],\"\\t\",life_exp_2018_by_continent[i])\n"
   ]
  },
  {
   "cell_type": "code",
   "execution_count": null,
   "id": "b8f342ee",
   "metadata": {},
   "outputs": [],
   "source": []
  }
 ],
 "metadata": {
  "kernelspec": {
   "display_name": "Python 3 (ipykernel)",
   "language": "python",
   "name": "python3"
  },
  "language_info": {
   "codemirror_mode": {
    "name": "ipython",
    "version": 3
   },
   "file_extension": ".py",
   "mimetype": "text/x-python",
   "name": "python",
   "nbconvert_exporter": "python",
   "pygments_lexer": "ipython3",
   "version": "3.11.5"
  }
 },
 "nbformat": 4,
 "nbformat_minor": 5
}
