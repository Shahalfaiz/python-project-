{
 "cells": [
  {
   "cell_type": "markdown",
   "id": "a61bb6bc",
   "metadata": {},
   "source": [
    "## Problem1: Arithmetic and Geometric Means"
   ]
  },
  {
   "cell_type": "code",
   "execution_count": 1,
   "id": "7eccebb9",
   "metadata": {},
   "outputs": [
    {
     "name": "stdout",
     "output_type": "stream",
     "text": [
      "sum:\t\t 59\n",
      "product:\t 42636\n",
      "Arithmetic Mean: 14.75\n",
      "Geometric Mean:\t 14.37\n"
     ]
    }
   ],
   "source": [
    "x0 = 11\n",
    "x1 = 12\n",
    "x2 = 17\n",
    "x3 = 19\n",
    "total =  x0 + x1 + x2 + x3\n",
    "product = x0 * x1 * x2 * x3\n",
    "arith_mean = total / 4\n",
    "geom_mean = product ** (1/4) \n",
    "print(\"sum:\\t\\t\",total)\n",
    "print(\"product:\\t\", product) \n",
    "print(\"Arithmetic Mean:\", round (arith_mean,2) )\n",
    "print(\"Geometric Mean:\\t\", round(geom_mean ,2 ))"
   ]
  },
  {
   "cell_type": "markdown",
   "id": "d5f9a015",
   "metadata": {},
   "source": [
    "## Problem2: Calculating Bill"
   ]
  },
  {
   "cell_type": "code",
   "execution_count": 2,
   "id": "c0f91546",
   "metadata": {},
   "outputs": [
    {
     "name": "stdout",
     "output_type": "stream",
     "text": [
      "2 Side Salads:\t $7.9\n",
      "2 Hamburgers:\t $17.9\n",
      "2 Diet Sodas:\t $5.0\n",
      "----------------------\n",
      "Subtotal:\t $30.799999999999997\n",
      "Tax (4.75%):\t $1.46\n",
      "Tip (15%):\t $5.0\n",
      "----------------------\n",
      "Total charge:\t $36.879999999999995\n"
     ]
    }
   ],
   "source": [
    "ss_cost = 2 * 3.95\n",
    "hb_cost = 2 * 8.95\n",
    "ds_cost = 2 * 2.50\n",
    "subtotal = ss_cost + hb_cost + ds_cost\n",
    "tax = round(subtotal * 0.0475 ,2)\n",
    "tip = round(subtotal * 0.15 ,2)\n",
    "total_charge = subtotal + tax + tip\n",
    "\n",
    "print(\"2 Side Salads:\\t \",\"$\",ss_cost,sep=\"\")\n",
    "print(\"2 Hamburgers:\\t \",\"$\", hb_cost,sep=\"\") \n",
    "print(\"2 Diet Sodas:\\t \",\"$\", ds_cost,sep=\"\")\n",
    "print(\"----------------------\")\n",
    "print(\"Subtotal:\\t \",\"$\",subtotal,sep=\"\")\n",
    "print(\"Tax (4.75%):\\t \",\"$\", tax,sep=\"\") \n",
    "print(\"Tip (15%):\\t \",\"$\", ds_cost,sep=\"\")\n",
    "print(\"----------------------\")\n",
    "print(\"Total charge:\\t \",\"$\",total_charge,sep=\"\")\n"
   ]
  },
  {
   "cell_type": "markdown",
   "id": "eab57330",
   "metadata": {},
   "source": [
    "## Problem 3: Volume of a Sphere"
   ]
  },
  {
   "cell_type": "code",
   "execution_count": 3,
   "id": "836d18e7",
   "metadata": {},
   "outputs": [
    {
     "name": "stdout",
     "output_type": "stream",
     "text": [
      "The Volume of a sphere with radius  4.6  is equal to  407.716.\n",
      "The Volume of a sphere with radius  7.2  is equal to  1563.441.\n",
      "The Volume of a sphere with radius  9.7  is equal to  3822.956.\n"
     ]
    }
   ],
   "source": [
    "pi = 3.14156\n",
    "r1 = 4.6\n",
    "r2 = 7.2\n",
    "r3 = 9.7\n",
    "v1 = (4/3) * pi * r1**3\n",
    "v2 = (4/3) * pi * r2**3\n",
    "v3 = (4/3) * pi * r3**3\n",
    "print(\"The Volume of a sphere with radius  \" , r1 , \"  is equal to  \", round(v1,3),\".\",sep=\"\")\n",
    "print(\"The Volume of a sphere with radius  \" , r2 , \"  is equal to  \", round(v2,3),\".\",sep=\"\")\n",
    "print(\"The Volume of a sphere with radius  \" , r3 , \"  is equal to  \", round(v3,3),\".\",sep=\"\")\n"
   ]
  },
  {
   "cell_type": "markdown",
   "id": "9dbc86ba",
   "metadata": {},
   "source": [
    "## Problem 4: Simple Interest"
   ]
  },
  {
   "cell_type": "code",
   "execution_count": 4,
   "id": "0504aa94",
   "metadata": {},
   "outputs": [
    {
     "name": "stdout",
     "output_type": "stream",
     "text": [
      "Amount repaid: $225.75\n"
     ]
    }
   ],
   "source": [
    "p = 210\n",
    "i = 0.09\n",
    "t = 10/12 \n",
    "A = p * ( 1 + i * t)\n",
    "print(\"Amount repaid: \",\"$\", A ,sep=\"\")"
   ]
  },
  {
   "cell_type": "markdown",
   "id": "f46dba71",
   "metadata": {},
   "source": [
    "## Problem 5: Compound interest"
   ]
  },
  {
   "cell_type": "code",
   "execution_count": 5,
   "id": "b3530ce6",
   "metadata": {},
   "outputs": [
    {
     "name": "stdout",
     "output_type": "stream",
     "text": [
      "Amount repaid: $463.05\n"
     ]
    }
   ],
   "source": [
    "p = 400\n",
    "i = 0.05\n",
    "t = 3\n",
    "A = round(p * ( 1 + i)**t,2)\n",
    "print(\"Amount repaid: \",\"$\", A ,sep=\"\")"
   ]
  },
  {
   "cell_type": "markdown",
   "id": "3a73f91c",
   "metadata": {},
   "source": [
    "## Problem 6: Annuity"
   ]
  },
  {
   "cell_type": "code",
   "execution_count": 6,
   "id": "9c10362a",
   "metadata": {},
   "outputs": [
    {
     "name": "stdout",
     "output_type": "stream",
     "text": [
      "Balance after 18 years: $51290.83\n"
     ]
    }
   ],
   "source": [
    "PMT = 2000\n",
    "i = 0.04\n",
    "n = 18\n",
    "A =round(PMT *((1+i)**n-1)/i,2)\n",
    "print(\"Balance after 18 years: \",\"$\", A ,sep=\"\")"
   ]
  },
  {
   "cell_type": "markdown",
   "id": "745838bd",
   "metadata": {},
   "source": [
    "## Problem 7: Probability "
   ]
  },
  {
   "cell_type": "code",
   "execution_count": 7,
   "id": "edde8eed",
   "metadata": {},
   "outputs": [
    {
     "name": "stdout",
     "output_type": "stream",
     "text": [
      "Probability that both people are late:\t\t 0.18\n",
      "Probability that at least one person is late:\t 0.72\n"
     ]
    }
   ],
   "source": [
    "prob_A = 0.6\n",
    "prob_B = 0.3\n",
    "prob_A_and_B = prob_A * prob_B\n",
    "prob_A_or_B  = prob_A + prob_B - prob_A_and_B\n",
    "print (\"Probability that both people are late:\\t\\t\",prob_A_and_B)\n",
    "print (\"Probability that at least one person is late:\\t\",prob_A_or_B)"
   ]
  },
  {
   "cell_type": "markdown",
   "id": "23450668",
   "metadata": {},
   "source": [
    "## Problem 8: Constructing an Output Message"
   ]
  },
  {
   "cell_type": "code",
   "execution_count": 8,
   "id": "b44531c5",
   "metadata": {
    "scrolled": true
   },
   "outputs": [
    {
     "name": "stdout",
     "output_type": "stream",
     "text": [
      "First Name:\tshahal\n",
      "Last Name:\talgunaid\n",
      "Student ID:\t19151\n",
      "\n"
     ]
    }
   ],
   "source": [
    "first = \"shahal\"\n",
    "last = \"algunaid\"\n",
    "sid = 19151\n",
    "msg = f\"First Name:\\t\" + first +\"\\n\"+ \"Last Name:\\t\" + last +\"\\n\" + \"Student ID:\\t\" + str(sid) +\"\\n\"\n",
    "print(msg)"
   ]
  }
 ],
 "metadata": {
  "kernelspec": {
   "display_name": "Python 3 (ipykernel)",
   "language": "python",
   "name": "python3"
  },
  "language_info": {
   "codemirror_mode": {
    "name": "ipython",
    "version": 3
   },
   "file_extension": ".py",
   "mimetype": "text/x-python",
   "name": "python",
   "nbconvert_exporter": "python",
   "pygments_lexer": "ipython3",
   "version": "3.11.5"
  }
 },
 "nbformat": 4,
 "nbformat_minor": 5
}
